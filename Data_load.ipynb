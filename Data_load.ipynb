{
  "nbformat": 4,
  "nbformat_minor": 0,
  "metadata": {
    "colab": {
      "name": "Data_load&File_extract.ipynb",
      "provenance": []
    },
    "kernelspec": {
      "name": "python3",
      "display_name": "Python 3"
    },
    "language_info": {
      "name": "python"
    }
  },
  "cells": [
    {
      "cell_type": "code",
      "execution_count": 1,
      "metadata": {
        "colab": {
          "base_uri": "https://localhost:8080/"
        },
        "id": "lGP0ajA0PlqK",
        "outputId": "3d5a4c7f-5261-49ec-e54c-a0125c2bfdfe"
      },
      "outputs": [
        {
          "output_type": "stream",
          "name": "stdout",
          "text": [
            "Mounted at /content/drive\n"
          ]
        }
      ],
      "source": [
        "from google.colab import drive\n",
        "drive.mount('/content/drive')"
      ]
    },
    {
      "cell_type": "code",
      "source": [
        "def data_load(path, cancers):\n",
        "  import tarfile\n",
        "  import os\n",
        "  import pandas as pd\n",
        "  from selenium import webdriver\n",
        "  from bs4 import BeautifulSoup\n",
        "  from selenium.webdriver.common.keys import Keys\n",
        "  from urllib.request import urlopen\n",
        "  from urllib.parse import quote_plus\n",
        "\n",
        "  chrome_options = webdriver.ChromeOptions()\n",
        "  chrome_options.add_argument('--headless')\n",
        "  chrome_options.add_argument('--no-sandbox')\n",
        "  chrome_options.add_argument('--disable-dev-shm-usage')\n",
        "  driver = webdriver.Chrome('chromedriver', options=chrome_options)\n",
        "\n",
        "  genome_path = f'{path}../해제파일/' # 압축 해제 후 파일\n",
        "  cancer_name = cancers  #입력 받는 암 데이터 명\n",
        "\n",
        "  for i in cancers: # 데이터 다운로드\n",
        "    url = 'http://gdac.broadinstitute.org/runs/stddata__2016_01_28/data/{0}/20160128/gdac.broadinstitute.org_{0}.Merge_rnaseqv2__illuminahiseq_rnaseqv2__unc_edu__Level_3__RSEM_genes_normalized__data.Level_3.2016012800.0.0.tar.gz'.format(i)\n",
        "    driver.get(url)\n",
        "\n",
        "  import shutil\n",
        "  for c in cancers: # 데이터 경로 이동\n",
        "    shutil.move('/content/gdac.broadinstitute.org_{0}.Merge_rnaseqv2__illuminahiseq_rnaseqv2__unc_edu__Level_3__RSEM_genes_normalized__data.Level_3.2016012800.0.0.tar.gz'.format(i),path)\n",
        "  \n",
        "  tar_list = os.listdir(path) #압축 해제 경로\n",
        "  cancer_df = pd.DataFrame()\n",
        "  for idx,f in enumerate(tar_list):\n",
        "    genome = cancer_name[idx]\n",
        "    ap = tarfile.open(path + f) #압축해제\n",
        "    ap.extractall(genome_path) # 압축파일 저장\n",
        "    ap.close\n",
        "  \n",
        "    f_old = os.path.join(genome_path, f.split('.tar')[0]) \n",
        "    f_new = os.path.join(genome_path, f'{genome}')\n",
        "    os.rename(f_old, f_new) # 폴더 명 암 이름으로 요약)\n",
        "\n",
        "    txt_list = os.listdir(f'{genome_path}{genome}/')\n",
        "    file = ''.join([i for i in txt_list if str(genome) in i])\n",
        "\n",
        "    data = pd.read_csv(f'{genome_path+genome}/{file}', sep='\\t', low_memory=False, index_col='Hybridization REF', skiprows=[1])  \n",
        "    data = data.T\n",
        "\n",
        "    cancer_df = pd.concat([cancer_df, data])\n",
        "\n",
        "  return cancer_df"
      ],
      "metadata": {
        "id": "qZMYE264PxZm"
      },
      "execution_count": 4,
      "outputs": []
    }
  ]
}